{
 "cells": [
  {
   "cell_type": "markdown",
   "id": "ec7c2eac-db25-4e4e-8fb6-89be4cc52a27",
   "metadata": {},
   "source": [
    "# to do\n",
    "## Предсказывать колонку Target\n",
    "\n",
    "1) Заполнить пропуски в датасете\n",
    "2) Нормализовать те колонки, которые нужно (сочтешь необходимым)\n",
    "3) Визуализировать данные (бонус: попробовать понижение размерности PCA, T-SNE) понизить до 2Д и отобразить на графике, цветом пометить классы\n",
    "4) Попробовать разные модели МЛ и подобрать метрику по которой будешь сравнивать\n",
    "5) Сделать выводы, представить результаты\n",
    "\n",
    "*Метрики: Accuracy, Recall, F1, AUC*\n"
   ]
  },
  {
   "cell_type": "markdown",
   "id": "54b31ae5-941d-4193-afed-cd32c34c7cf7",
   "metadata": {},
   "source": [
    "# done \n",
    "1 - Заполнение пропусков в датасете\n",
    "    a - удалил дубликаты\n",
    "    \n",
    "    b - удалил \" пустые \" строки\n",
    "    \n",
    "    с - заменил в  AvgPrice,  MinPrice,  PremiumInCart пустые элементы на предыдущие значения\n",
    "    \n",
    " ## Итог: \n",
    " \n",
    "    было 23254, стало 15893 строк\n",
    "#dataset.isnull().sum()\n",
    "#len(dataset)\n",
    "\n",
    "\n",
    "2 - Нормализация:\n",
    "\n",
    "    a - были нормализована колонка с DeviceCategory. ( Заменяем в столбце DeviceCategory tablet, desktop и mobile на 2, 1 и 0 )\n",
    "    \n",
    "    \n",
    "3 - Визуализация:\n",
    "\n",
    "    а - "
   ]
  },
  {
   "cell_type": "markdown",
   "id": "f10f5e0f-4226-4a73-9967-b877f95e36e4",
   "metadata": {},
   "source": [
    "## Information\n",
    "PremiumPDPPercentage - процент премиума PDP - Partial Dependence Plots\n",
    "\n",
    "PremiumCategoryPagePercentage - премиум страница в процентах\n",
    "\n",
    "FilteredBrand - \n",
    "\n",
    "PremiumInCart - индикатор наличия в корзине премиального продукта\n",
    "\n",
    "PDPContain35 - "
   ]
  },
  {
   "cell_type": "markdown",
   "id": "b26d398d-c069-482f-ab62-83875ad8afd5",
   "metadata": {},
   "source": [
    "## Count null in data\n",
    "AvgPrice - 1886 - средняя цена  просмотренных продуктов\n",
    "\n",
    "MinPrice - 1886 - мин цена просмотренных продуктов\n",
    "\n",
    "PremiumInCart - 1526 - индикатор наличия в корзине премиального продукта\n"
   ]
  },
  {
   "cell_type": "code",
   "execution_count": 60,
   "id": "6e627e03-668a-49ce-b95d-d9596963928c",
   "metadata": {
    "slideshow": {
     "slide_type": "slide"
    },
    "tags": []
   },
   "outputs": [
    {
     "data": {
      "text/html": [
       "<div>\n",
       "<style scoped>\n",
       "    .dataframe tbody tr th:only-of-type {\n",
       "        vertical-align: middle;\n",
       "    }\n",
       "\n",
       "    .dataframe tbody tr th {\n",
       "        vertical-align: top;\n",
       "    }\n",
       "\n",
       "    .dataframe thead th {\n",
       "        text-align: right;\n",
       "    }\n",
       "</style>\n",
       "<table border=\"1\" class=\"dataframe\">\n",
       "  <thead>\n",
       "    <tr style=\"text-align: right;\">\n",
       "      <th></th>\n",
       "      <th>DeviceCategory</th>\n",
       "      <th>PremiumPDPPercentage</th>\n",
       "      <th>PremiumCategoryPagePercentage</th>\n",
       "      <th>FilteredBrand</th>\n",
       "      <th>AvgPrice</th>\n",
       "      <th>MinPrice</th>\n",
       "      <th>PremiumInCart</th>\n",
       "      <th>PDPContain35</th>\n",
       "      <th>Target</th>\n",
       "    </tr>\n",
       "  </thead>\n",
       "  <tbody>\n",
       "    <tr>\n",
       "      <th>0</th>\n",
       "      <td>mobile</td>\n",
       "      <td>0.222222</td>\n",
       "      <td>0.000000</td>\n",
       "      <td>0</td>\n",
       "      <td>109.71875</td>\n",
       "      <td>73.0</td>\n",
       "      <td>0.0</td>\n",
       "      <td>0</td>\n",
       "      <td>0</td>\n",
       "    </tr>\n",
       "    <tr>\n",
       "      <th>1</th>\n",
       "      <td>desktop</td>\n",
       "      <td>0.000000</td>\n",
       "      <td>0.000000</td>\n",
       "      <td>0</td>\n",
       "      <td>45.60000</td>\n",
       "      <td>45.6</td>\n",
       "      <td>0.0</td>\n",
       "      <td>1</td>\n",
       "      <td>0</td>\n",
       "    </tr>\n",
       "    <tr>\n",
       "      <th>2</th>\n",
       "      <td>mobile</td>\n",
       "      <td>1.000000</td>\n",
       "      <td>0.000000</td>\n",
       "      <td>0</td>\n",
       "      <td>223.00000</td>\n",
       "      <td>223.0</td>\n",
       "      <td>1.0</td>\n",
       "      <td>0</td>\n",
       "      <td>1</td>\n",
       "    </tr>\n",
       "    <tr>\n",
       "      <th>3</th>\n",
       "      <td>desktop</td>\n",
       "      <td>0.150000</td>\n",
       "      <td>0.363636</td>\n",
       "      <td>0</td>\n",
       "      <td>69.10000</td>\n",
       "      <td>39.6</td>\n",
       "      <td>0.0</td>\n",
       "      <td>0</td>\n",
       "      <td>0</td>\n",
       "    </tr>\n",
       "    <tr>\n",
       "      <th>4</th>\n",
       "      <td>desktop</td>\n",
       "      <td>1.000000</td>\n",
       "      <td>0.000000</td>\n",
       "      <td>0</td>\n",
       "      <td>342.00000</td>\n",
       "      <td>342.0</td>\n",
       "      <td>1.0</td>\n",
       "      <td>0</td>\n",
       "      <td>1</td>\n",
       "    </tr>\n",
       "  </tbody>\n",
       "</table>\n",
       "</div>"
      ],
      "text/plain": [
       "  DeviceCategory  PremiumPDPPercentage  PremiumCategoryPagePercentage  \\\n",
       "0         mobile              0.222222                       0.000000   \n",
       "1        desktop              0.000000                       0.000000   \n",
       "2         mobile              1.000000                       0.000000   \n",
       "3        desktop              0.150000                       0.363636   \n",
       "4        desktop              1.000000                       0.000000   \n",
       "\n",
       "   FilteredBrand   AvgPrice  MinPrice  PremiumInCart  PDPContain35  Target  \n",
       "0              0  109.71875      73.0            0.0             0       0  \n",
       "1              0   45.60000      45.6            0.0             1       0  \n",
       "2              0  223.00000     223.0            1.0             0       1  \n",
       "3              0   69.10000      39.6            0.0             0       0  \n",
       "4              0  342.00000     342.0            1.0             0       1  "
      ]
     },
     "execution_count": 60,
     "metadata": {},
     "output_type": "execute_result"
    }
   ],
   "source": [
    "import numpy as np\n",
    "import pandas\n",
    "from sklearn.impute import KNNImputer\n",
    "from pandas import read_csv\n",
    "import csv\n",
    "dataset = read_csv('premium_20220101_20220131_with_nulls_device.csv')\n",
    "dataset.head()"
   ]
  },
  {
   "cell_type": "markdown",
   "id": "d6bd924c-aa16-4069-b004-953d01ad48ea",
   "metadata": {},
   "source": [
    "# Основная работа "
   ]
  },
  {
   "cell_type": "code",
   "execution_count": 61,
   "id": "b8f46935-a6f9-4b6f-a18b-69804627441e",
   "metadata": {
    "tags": []
   },
   "outputs": [],
   "source": [
    "\n",
    "import pandas as pd\n",
    "from sklearn.impute import KNNImputer, SimpleImputer\n",
    "from IPython.display import display\n",
    "\n",
    "\n",
    "df = pd.read_csv('premium_20220101_20220131_with_nulls_device.csv')\n"
   ]
  },
  {
   "cell_type": "markdown",
   "id": "9e7dbd00-5605-4154-a4c0-6f19acdfc36b",
   "metadata": {},
   "source": [
    "## удаляем строку, если кол-во пустых элементов больше 2"
   ]
  },
  {
   "cell_type": "code",
   "execution_count": 62,
   "id": "4ec98290-4bf0-400c-b2dd-0f2386e940d1",
   "metadata": {},
   "outputs": [],
   "source": [
    "df.dropna(axis=0,inplace=True, thresh = 2)"
   ]
  },
  {
   "cell_type": "markdown",
   "id": "ded58897-cdbe-4279-a57f-f8fda5e619b5",
   "metadata": {},
   "source": [
    "## удаляем дубликаты"
   ]
  },
  {
   "cell_type": "code",
   "execution_count": 63,
   "id": "5aec703a-435d-4441-a637-32e2a19f52f8",
   "metadata": {},
   "outputs": [],
   "source": [
    "df = pd.DataFrame(df.drop_duplicates().reset_index(drop=True))"
   ]
  },
  {
   "cell_type": "markdown",
   "id": "63de8ba4-fecb-455b-8af0-aa29db84fd02",
   "metadata": {},
   "source": [
    "## Заменяем пустые элементы предыдущим элементом"
   ]
  },
  {
   "cell_type": "code",
   "execution_count": 64,
   "id": "831c5057-8045-413d-be95-f5d05b990e48",
   "metadata": {},
   "outputs": [],
   "source": [
    "imputer = KNNImputer(n_neighbors=3, weights=\"uniform\")\n",
    "df[[\"PremiumInCart\"]] = df[[\"PremiumInCart\"]].fillna(method = \"ffill\")\n",
    "df[[\"AvgPrice\"]] = df[[\"AvgPrice\"]].fillna(method = \"ffill\")\n",
    "df[[\"MinPrice\"]] = df[[\"MinPrice\"]].fillna(method = \"ffill\")\n"
   ]
  },
  {
   "cell_type": "markdown",
   "id": "bccc267d-352f-4152-a845-61b71c76a71d",
   "metadata": {},
   "source": [
    "## Заменяем в столбце DeviceCategory tablet, desktop и mobile на 2, 1 и 0"
   ]
  },
  {
   "cell_type": "code",
   "execution_count": 65,
   "id": "b386a1d7-82bd-4ed7-aaff-aa3570f19d21",
   "metadata": {},
   "outputs": [],
   "source": [
    "test = {'tablet' : 2, 'desktop': 1,'mobile': 0 }\n",
    "df[\"DeviceCategory\"] = df[\"DeviceCategory\"].apply(lambda x:test[x])"
   ]
  },
  {
   "cell_type": "markdown",
   "id": "04b53418-a5d8-4c02-8241-0a3ae5ea6048",
   "metadata": {},
   "source": [
    "## Разделяем нашу выборка на тренировочную и тестовую"
   ]
  },
  {
   "cell_type": "code",
   "execution_count": 66,
   "id": "b10fd67c-5fdf-4935-bc17-abac6c578d07",
   "metadata": {},
   "outputs": [],
   "source": [
    "from sklearn.model_selection import train_test_split\n",
    "\n",
    "columns_target = [\"Target\"]  # целевая выборка\n",
    "columns_train = [\"DeviceCategory\", \"PremiumPDPPercentage\", \"PremiumCategoryPagePercentage\", \"FilteredBrand\", \"AvgPrice\", \"MinPrice\", \"PremiumInCart\", \"PDPContain35\" ]\n",
    "\n",
    "X = df[columns_train]\n",
    "Y = df[columns_target]\n",
    "X_train, X_test, Y_train, Y_test = train_test_split(X, Y, test_size=0.33, random_state=42)\n"
   ]
  },
  {
   "cell_type": "markdown",
   "id": "0f053a54-30b3-48ae-9fb0-7f1a3dcebf75",
   "metadata": {},
   "source": [
    "## загружаем  модель Support Vector Machine для обучения"
   ]
  },
  {
   "cell_type": "code",
   "execution_count": 67,
   "id": "6a78f5c3-f642-4d2a-bd11-7db0dbb4c688",
   "metadata": {},
   "outputs": [],
   "source": [
    "from sklearn import svm"
   ]
  },
  {
   "cell_type": "code",
   "execution_count": 68,
   "id": "f3c0b426-707e-4970-97d5-081bb0e91e16",
   "metadata": {},
   "outputs": [],
   "source": [
    "predmodel = svm.LinearSVC()"
   ]
  },
  {
   "cell_type": "markdown",
   "id": "f69a2db1-a937-44c0-bd43-63e433578db5",
   "metadata": {},
   "source": [
    "## Обучаем модель с помощью нашей обучаемой выборки"
   ]
  },
  {
   "cell_type": "code",
   "execution_count": 69,
   "id": "21507765-c814-4172-9f82-ae24a49a8d10",
   "metadata": {},
   "outputs": [
    {
     "name": "stderr",
     "output_type": "stream",
     "text": [
      "d:\\desktop\\data_premuim\\lib\\site-packages\\sklearn\\svm\\_base.py:1225: ConvergenceWarning: Liblinear failed to converge, increase the number of iterations.\n",
      "  warnings.warn(\n"
     ]
    },
    {
     "data": {
      "text/html": [
       "<style>#sk-container-id-2 {color: black;background-color: white;}#sk-container-id-2 pre{padding: 0;}#sk-container-id-2 div.sk-toggleable {background-color: white;}#sk-container-id-2 label.sk-toggleable__label {cursor: pointer;display: block;width: 100%;margin-bottom: 0;padding: 0.3em;box-sizing: border-box;text-align: center;}#sk-container-id-2 label.sk-toggleable__label-arrow:before {content: \"▸\";float: left;margin-right: 0.25em;color: #696969;}#sk-container-id-2 label.sk-toggleable__label-arrow:hover:before {color: black;}#sk-container-id-2 div.sk-estimator:hover label.sk-toggleable__label-arrow:before {color: black;}#sk-container-id-2 div.sk-toggleable__content {max-height: 0;max-width: 0;overflow: hidden;text-align: left;background-color: #f0f8ff;}#sk-container-id-2 div.sk-toggleable__content pre {margin: 0.2em;color: black;border-radius: 0.25em;background-color: #f0f8ff;}#sk-container-id-2 input.sk-toggleable__control:checked~div.sk-toggleable__content {max-height: 200px;max-width: 100%;overflow: auto;}#sk-container-id-2 input.sk-toggleable__control:checked~label.sk-toggleable__label-arrow:before {content: \"▾\";}#sk-container-id-2 div.sk-estimator input.sk-toggleable__control:checked~label.sk-toggleable__label {background-color: #d4ebff;}#sk-container-id-2 div.sk-label input.sk-toggleable__control:checked~label.sk-toggleable__label {background-color: #d4ebff;}#sk-container-id-2 input.sk-hidden--visually {border: 0;clip: rect(1px 1px 1px 1px);clip: rect(1px, 1px, 1px, 1px);height: 1px;margin: -1px;overflow: hidden;padding: 0;position: absolute;width: 1px;}#sk-container-id-2 div.sk-estimator {font-family: monospace;background-color: #f0f8ff;border: 1px dotted black;border-radius: 0.25em;box-sizing: border-box;margin-bottom: 0.5em;}#sk-container-id-2 div.sk-estimator:hover {background-color: #d4ebff;}#sk-container-id-2 div.sk-parallel-item::after {content: \"\";width: 100%;border-bottom: 1px solid gray;flex-grow: 1;}#sk-container-id-2 div.sk-label:hover label.sk-toggleable__label {background-color: #d4ebff;}#sk-container-id-2 div.sk-serial::before {content: \"\";position: absolute;border-left: 1px solid gray;box-sizing: border-box;top: 0;bottom: 0;left: 50%;z-index: 0;}#sk-container-id-2 div.sk-serial {display: flex;flex-direction: column;align-items: center;background-color: white;padding-right: 0.2em;padding-left: 0.2em;position: relative;}#sk-container-id-2 div.sk-item {position: relative;z-index: 1;}#sk-container-id-2 div.sk-parallel {display: flex;align-items: stretch;justify-content: center;background-color: white;position: relative;}#sk-container-id-2 div.sk-item::before, #sk-container-id-2 div.sk-parallel-item::before {content: \"\";position: absolute;border-left: 1px solid gray;box-sizing: border-box;top: 0;bottom: 0;left: 50%;z-index: -1;}#sk-container-id-2 div.sk-parallel-item {display: flex;flex-direction: column;z-index: 1;position: relative;background-color: white;}#sk-container-id-2 div.sk-parallel-item:first-child::after {align-self: flex-end;width: 50%;}#sk-container-id-2 div.sk-parallel-item:last-child::after {align-self: flex-start;width: 50%;}#sk-container-id-2 div.sk-parallel-item:only-child::after {width: 0;}#sk-container-id-2 div.sk-dashed-wrapped {border: 1px dashed gray;margin: 0 0.4em 0.5em 0.4em;box-sizing: border-box;padding-bottom: 0.4em;background-color: white;}#sk-container-id-2 div.sk-label label {font-family: monospace;font-weight: bold;display: inline-block;line-height: 1.2em;}#sk-container-id-2 div.sk-label-container {text-align: center;}#sk-container-id-2 div.sk-container {/* jupyter's `normalize.less` sets `[hidden] { display: none; }` but bootstrap.min.css set `[hidden] { display: none !important; }` so we also need the `!important` here to be able to override the default hidden behavior on the sphinx rendered scikit-learn.org. See: https://github.com/scikit-learn/scikit-learn/issues/21755 */display: inline-block !important;position: relative;}#sk-container-id-2 div.sk-text-repr-fallback {display: none;}</style><div id=\"sk-container-id-2\" class=\"sk-top-container\"><div class=\"sk-text-repr-fallback\"><pre>LinearSVC()</pre><b>In a Jupyter environment, please rerun this cell to show the HTML representation or trust the notebook. <br />On GitHub, the HTML representation is unable to render, please try loading this page with nbviewer.org.</b></div><div class=\"sk-container\" hidden><div class=\"sk-item\"><div class=\"sk-estimator sk-toggleable\"><input class=\"sk-toggleable__control sk-hidden--visually\" id=\"sk-estimator-id-2\" type=\"checkbox\" checked><label for=\"sk-estimator-id-2\" class=\"sk-toggleable__label sk-toggleable__label-arrow\">LinearSVC</label><div class=\"sk-toggleable__content\"><pre>LinearSVC()</pre></div></div></div></div></div>"
      ],
      "text/plain": [
       "LinearSVC()"
      ]
     },
     "execution_count": 69,
     "metadata": {},
     "output_type": "execute_result"
    }
   ],
   "source": [
    "predmodel.fit(X_train, Y_train.values.ravel())"
   ]
  },
  {
   "cell_type": "markdown",
   "id": "ed6d0dce-0dc4-417e-80fa-d22837cc5db5",
   "metadata": {},
   "source": [
    "## предсказываем на тестовой выборке"
   ]
  },
  {
   "cell_type": "code",
   "execution_count": 70,
   "id": "b72c5a55-e944-4b47-86b5-af8971a686cc",
   "metadata": {},
   "outputs": [],
   "source": [
    "z = predmodel.predict(X_test)"
   ]
  },
  {
   "cell_type": "markdown",
   "id": "12bb8a6c-41a4-4a63-b0f3-4c99ba3a0e35",
   "metadata": {},
   "source": [
    "## объединяем для колонки Target2"
   ]
  },
  {
   "cell_type": "code",
   "execution_count": 71,
   "id": "23bf5000-f1d4-45dc-97b8-2471a1ceec38",
   "metadata": {},
   "outputs": [
    {
     "name": "stderr",
     "output_type": "stream",
     "text": [
      "C:\\Users\\George\\AppData\\Local\\Temp\\ipykernel_25624\\3081693648.py:4: SettingWithCopyWarning: \n",
      "A value is trying to be set on a copy of a slice from a DataFrame\n",
      "\n",
      "See the caveats in the documentation: https://pandas.pydata.org/pandas-docs/stable/user_guide/indexing.html#returning-a-view-versus-a-copy\n",
      "  df[\"Target2\"][5245:] = pd.Series(zz)\n"
     ]
    },
    {
     "data": {
      "text/html": [
       "<div>\n",
       "<style scoped>\n",
       "    .dataframe tbody tr th:only-of-type {\n",
       "        vertical-align: middle;\n",
       "    }\n",
       "\n",
       "    .dataframe tbody tr th {\n",
       "        vertical-align: top;\n",
       "    }\n",
       "\n",
       "    .dataframe thead th {\n",
       "        text-align: right;\n",
       "    }\n",
       "</style>\n",
       "<table border=\"1\" class=\"dataframe\">\n",
       "  <thead>\n",
       "    <tr style=\"text-align: right;\">\n",
       "      <th></th>\n",
       "      <th>DeviceCategory</th>\n",
       "      <th>PremiumPDPPercentage</th>\n",
       "      <th>PremiumCategoryPagePercentage</th>\n",
       "      <th>FilteredBrand</th>\n",
       "      <th>AvgPrice</th>\n",
       "      <th>MinPrice</th>\n",
       "      <th>PremiumInCart</th>\n",
       "      <th>PDPContain35</th>\n",
       "      <th>Target</th>\n",
       "      <th>Target2</th>\n",
       "    </tr>\n",
       "  </thead>\n",
       "  <tbody>\n",
       "    <tr>\n",
       "      <th>0</th>\n",
       "      <td>0</td>\n",
       "      <td>0.222222</td>\n",
       "      <td>0.000000</td>\n",
       "      <td>0</td>\n",
       "      <td>109.718750</td>\n",
       "      <td>73.0</td>\n",
       "      <td>0.0</td>\n",
       "      <td>0</td>\n",
       "      <td>0</td>\n",
       "      <td>1.0</td>\n",
       "    </tr>\n",
       "    <tr>\n",
       "      <th>1</th>\n",
       "      <td>1</td>\n",
       "      <td>0.000000</td>\n",
       "      <td>0.000000</td>\n",
       "      <td>0</td>\n",
       "      <td>45.600000</td>\n",
       "      <td>45.6</td>\n",
       "      <td>0.0</td>\n",
       "      <td>1</td>\n",
       "      <td>0</td>\n",
       "      <td>0.0</td>\n",
       "    </tr>\n",
       "    <tr>\n",
       "      <th>2</th>\n",
       "      <td>0</td>\n",
       "      <td>1.000000</td>\n",
       "      <td>0.000000</td>\n",
       "      <td>0</td>\n",
       "      <td>223.000000</td>\n",
       "      <td>223.0</td>\n",
       "      <td>1.0</td>\n",
       "      <td>0</td>\n",
       "      <td>1</td>\n",
       "      <td>1.0</td>\n",
       "    </tr>\n",
       "    <tr>\n",
       "      <th>3</th>\n",
       "      <td>1</td>\n",
       "      <td>0.150000</td>\n",
       "      <td>0.363636</td>\n",
       "      <td>0</td>\n",
       "      <td>69.100000</td>\n",
       "      <td>39.6</td>\n",
       "      <td>0.0</td>\n",
       "      <td>0</td>\n",
       "      <td>0</td>\n",
       "      <td>0.0</td>\n",
       "    </tr>\n",
       "    <tr>\n",
       "      <th>4</th>\n",
       "      <td>1</td>\n",
       "      <td>1.000000</td>\n",
       "      <td>0.000000</td>\n",
       "      <td>0</td>\n",
       "      <td>342.000000</td>\n",
       "      <td>342.0</td>\n",
       "      <td>1.0</td>\n",
       "      <td>0</td>\n",
       "      <td>1</td>\n",
       "      <td>1.0</td>\n",
       "    </tr>\n",
       "    <tr>\n",
       "      <th>...</th>\n",
       "      <td>...</td>\n",
       "      <td>...</td>\n",
       "      <td>...</td>\n",
       "      <td>...</td>\n",
       "      <td>...</td>\n",
       "      <td>...</td>\n",
       "      <td>...</td>\n",
       "      <td>...</td>\n",
       "      <td>...</td>\n",
       "      <td>...</td>\n",
       "    </tr>\n",
       "    <tr>\n",
       "      <th>15888</th>\n",
       "      <td>0</td>\n",
       "      <td>0.800000</td>\n",
       "      <td>0.000000</td>\n",
       "      <td>0</td>\n",
       "      <td>158.929412</td>\n",
       "      <td>41.6</td>\n",
       "      <td>1.0</td>\n",
       "      <td>1</td>\n",
       "      <td>0</td>\n",
       "      <td>1.0</td>\n",
       "    </tr>\n",
       "    <tr>\n",
       "      <th>15889</th>\n",
       "      <td>1</td>\n",
       "      <td>0.000000</td>\n",
       "      <td>0.000000</td>\n",
       "      <td>0</td>\n",
       "      <td>47.866667</td>\n",
       "      <td>41.6</td>\n",
       "      <td>0.0</td>\n",
       "      <td>1</td>\n",
       "      <td>0</td>\n",
       "      <td>1.0</td>\n",
       "    </tr>\n",
       "    <tr>\n",
       "      <th>15890</th>\n",
       "      <td>1</td>\n",
       "      <td>0.214286</td>\n",
       "      <td>0.000000</td>\n",
       "      <td>0</td>\n",
       "      <td>73.150000</td>\n",
       "      <td>41.6</td>\n",
       "      <td>0.0</td>\n",
       "      <td>0</td>\n",
       "      <td>0</td>\n",
       "      <td>0.0</td>\n",
       "    </tr>\n",
       "    <tr>\n",
       "      <th>15891</th>\n",
       "      <td>0</td>\n",
       "      <td>0.000000</td>\n",
       "      <td>0.000000</td>\n",
       "      <td>0</td>\n",
       "      <td>73.900000</td>\n",
       "      <td>41.6</td>\n",
       "      <td>0.0</td>\n",
       "      <td>1</td>\n",
       "      <td>0</td>\n",
       "      <td>0.0</td>\n",
       "    </tr>\n",
       "    <tr>\n",
       "      <th>15892</th>\n",
       "      <td>0</td>\n",
       "      <td>0.000000</td>\n",
       "      <td>0.875000</td>\n",
       "      <td>12</td>\n",
       "      <td>76.773333</td>\n",
       "      <td>41.6</td>\n",
       "      <td>0.0</td>\n",
       "      <td>1</td>\n",
       "      <td>0</td>\n",
       "      <td>1.0</td>\n",
       "    </tr>\n",
       "  </tbody>\n",
       "</table>\n",
       "<p>15893 rows × 10 columns</p>\n",
       "</div>"
      ],
      "text/plain": [
       "       DeviceCategory  PremiumPDPPercentage  PremiumCategoryPagePercentage  \\\n",
       "0                   0              0.222222                       0.000000   \n",
       "1                   1              0.000000                       0.000000   \n",
       "2                   0              1.000000                       0.000000   \n",
       "3                   1              0.150000                       0.363636   \n",
       "4                   1              1.000000                       0.000000   \n",
       "...               ...                   ...                            ...   \n",
       "15888               0              0.800000                       0.000000   \n",
       "15889               1              0.000000                       0.000000   \n",
       "15890               1              0.214286                       0.000000   \n",
       "15891               0              0.000000                       0.000000   \n",
       "15892               0              0.000000                       0.875000   \n",
       "\n",
       "       FilteredBrand    AvgPrice  MinPrice  PremiumInCart  PDPContain35  \\\n",
       "0                  0  109.718750      73.0            0.0             0   \n",
       "1                  0   45.600000      45.6            0.0             1   \n",
       "2                  0  223.000000     223.0            1.0             0   \n",
       "3                  0   69.100000      39.6            0.0             0   \n",
       "4                  0  342.000000     342.0            1.0             0   \n",
       "...              ...         ...       ...            ...           ...   \n",
       "15888              0  158.929412      41.6            1.0             1   \n",
       "15889              0   47.866667      41.6            0.0             1   \n",
       "15890              0   73.150000      41.6            0.0             0   \n",
       "15891              0   73.900000      41.6            0.0             1   \n",
       "15892             12   76.773333      41.6            0.0             1   \n",
       "\n",
       "       Target  Target2  \n",
       "0           0      1.0  \n",
       "1           0      0.0  \n",
       "2           1      1.0  \n",
       "3           0      0.0  \n",
       "4           1      1.0  \n",
       "...       ...      ...  \n",
       "15888       0      1.0  \n",
       "15889       0      1.0  \n",
       "15890       0      0.0  \n",
       "15891       0      0.0  \n",
       "15892       0      1.0  \n",
       "\n",
       "[15893 rows x 10 columns]"
      ]
     },
     "execution_count": 71,
     "metadata": {},
     "output_type": "execute_result"
    }
   ],
   "source": [
    "z = predmodel.predict(X_test)\n",
    "zz = predmodel.predict(X_train)\n",
    "df[\"Target2\"] =pd.Series(z)\n",
    "df[\"Target2\"][5245:] = pd.Series(zz)\n",
    "df"
   ]
  },
  {
   "cell_type": "markdown",
   "id": "4cc836f8-752f-4c86-ad4c-7d1cf6d11d90",
   "metadata": {},
   "source": [
    "## проверяем точность предсказаний"
   ]
  },
  {
   "cell_type": "code",
   "execution_count": 72,
   "id": "56d45e93-c7aa-4913-9d28-cb1309a92470",
   "metadata": {},
   "outputs": [
    {
     "data": {
      "text/plain": [
       "0.9618684461391802"
      ]
     },
     "execution_count": 72,
     "metadata": {},
     "output_type": "execute_result"
    }
   ],
   "source": [
    "predmodel.score(X_test, Y_test)"
   ]
  },
  {
   "cell_type": "markdown",
   "id": "63ce376c-2919-44f3-b703-784123fb1d05",
   "metadata": {},
   "source": [
    "## Пытаемся \"рисовать\""
   ]
  },
  {
   "cell_type": "code",
   "execution_count": 73,
   "id": "d4d2dee3-78ce-4e1e-a803-eb7791ac0d9a",
   "metadata": {},
   "outputs": [
    {
     "data": {
      "text/plain": [
       "<AxesSubplot:xlabel='AvgPrice', ylabel='Target'>"
      ]
     },
     "execution_count": 73,
     "metadata": {},
     "output_type": "execute_result"
    },
    {
     "data": {
      "image/png": "[encoded data removed]",
      "text/plain": [
       "<Figure size 432x288 with 1 Axes>"
      ]
     },
     "metadata": {
      "needs_background": "light"
     },
     "output_type": "display_data"
    }
   ],
   "source": [
    "import seaborn as sns\n",
    "from matplotlib import pyplot as plt\n",
    "\n",
    "sns.scatterplot(x='AvgPrice', y=df['Target'], data=X_test)"
   ]
  },
  {
   "cell_type": "code",
   "execution_count": 74,
   "id": "f3e98c80-4a4d-4655-a36b-bc70bc28f1ec",
   "metadata": {},
   "outputs": [
    {
     "data": {
      "text/plain": [
       "<AxesSubplot:xlabel='AvgPrice', ylabel='Target2'>"
      ]
     },
     "execution_count": 74,
     "metadata": {},
     "output_type": "execute_result"
    },
    {
     "data": {
      "image/png": "[encoded data removed]",
      "text/plain": [
       "<Figure size 432x288 with 1 Axes>"
      ]
     },
     "metadata": {
      "needs_background": "light"
     },
     "output_type": "display_data"
    }
   ],
   "source": [
    "sns.scatterplot(x='AvgPrice', y=df['Target2'],palette='hls', data=X_test)"
   ]
  },
  {
   "cell_type": "markdown",
   "id": "53f2280c-f629-4950-9c91-306191029192",
   "metadata": {},
   "source": [
    "# Используя понижение размерности PCA пробуем рисовать с учетом Target и Target2\n",
    "*https://www.machinelearningmastery.ru/pca-using-python-scikit-learn-e653f8989e60/*"
   ]
  },
  {
   "cell_type": "markdown",
   "id": "ca245aed-ba1c-46f5-8f48-5675114a7c88",
   "metadata": {},
   "source": [
    "## for Target"
   ]
  },
  {
   "cell_type": "code",
   "execution_count": 77,
   "id": "5b142254-8c5d-4678-9765-038efb8bf6ca",
   "metadata": {},
   "outputs": [
    {
     "data": {
      "text/html": [
       "<div>\n",
       "<style scoped>\n",
       "    .dataframe tbody tr th:only-of-type {\n",
       "        vertical-align: middle;\n",
       "    }\n",
       "\n",
       "    .dataframe tbody tr th {\n",
       "        vertical-align: top;\n",
       "    }\n",
       "\n",
       "    .dataframe thead th {\n",
       "        text-align: right;\n",
       "    }\n",
       "</style>\n",
       "<table border=\"1\" class=\"dataframe\">\n",
       "  <thead>\n",
       "    <tr style=\"text-align: right;\">\n",
       "      <th></th>\n",
       "      <th>principal component 1</th>\n",
       "      <th>principal component 2</th>\n",
       "      <th>Target</th>\n",
       "    </tr>\n",
       "  </thead>\n",
       "  <tbody>\n",
       "    <tr>\n",
       "      <th>0</th>\n",
       "      <td>-0.031403</td>\n",
       "      <td>0.336451</td>\n",
       "      <td>0</td>\n",
       "    </tr>\n",
       "    <tr>\n",
       "      <th>1</th>\n",
       "      <td>-1.664381</td>\n",
       "      <td>-0.542398</td>\n",
       "      <td>0</td>\n",
       "    </tr>\n",
       "    <tr>\n",
       "      <th>2</th>\n",
       "      <td>3.932801</td>\n",
       "      <td>-0.358014</td>\n",
       "      <td>1</td>\n",
       "    </tr>\n",
       "    <tr>\n",
       "      <th>3</th>\n",
       "      <td>-0.379234</td>\n",
       "      <td>-0.367377</td>\n",
       "      <td>0</td>\n",
       "    </tr>\n",
       "    <tr>\n",
       "      <th>4</th>\n",
       "      <td>5.809294</td>\n",
       "      <td>-1.943322</td>\n",
       "      <td>1</td>\n",
       "    </tr>\n",
       "    <tr>\n",
       "      <th>...</th>\n",
       "      <td>...</td>\n",
       "      <td>...</td>\n",
       "      <td>...</td>\n",
       "    </tr>\n",
       "    <tr>\n",
       "      <th>15888</th>\n",
       "      <td>1.122468</td>\n",
       "      <td>0.392875</td>\n",
       "      <td>0</td>\n",
       "    </tr>\n",
       "    <tr>\n",
       "      <th>15889</th>\n",
       "      <td>-1.678077</td>\n",
       "      <td>-0.533931</td>\n",
       "      <td>0</td>\n",
       "    </tr>\n",
       "    <tr>\n",
       "      <th>15890</th>\n",
       "      <td>-0.601967</td>\n",
       "      <td>-0.866860</td>\n",
       "      <td>0</td>\n",
       "    </tr>\n",
       "    <tr>\n",
       "      <th>15891</th>\n",
       "      <td>-1.450797</td>\n",
       "      <td>0.744604</td>\n",
       "      <td>0</td>\n",
       "    </tr>\n",
       "    <tr>\n",
       "      <th>15892</th>\n",
       "      <td>-0.386242</td>\n",
       "      <td>2.945906</td>\n",
       "      <td>0</td>\n",
       "    </tr>\n",
       "  </tbody>\n",
       "</table>\n",
       "<p>15893 rows × 3 columns</p>\n",
       "</div>"
      ],
      "text/plain": [
       "       principal component 1  principal component 2  Target\n",
       "0                  -0.031403               0.336451       0\n",
       "1                  -1.664381              -0.542398       0\n",
       "2                   3.932801              -0.358014       1\n",
       "3                  -0.379234              -0.367377       0\n",
       "4                   5.809294              -1.943322       1\n",
       "...                      ...                    ...     ...\n",
       "15888               1.122468               0.392875       0\n",
       "15889              -1.678077              -0.533931       0\n",
       "15890              -0.601967              -0.866860       0\n",
       "15891              -1.450797               0.744604       0\n",
       "15892              -0.386242               2.945906       0\n",
       "\n",
       "[15893 rows x 3 columns]"
      ]
     },
     "execution_count": 77,
     "metadata": {},
     "output_type": "execute_result"
    }
   ],
   "source": [
    "from sklearn.preprocessing import StandardScaler\n",
    "features = ['DeviceCategory', 'PremiumPDPPercentage', 'PremiumCategoryPagePercentage', 'FilteredBrand', 'AvgPrice', 'MinPrice', 'PremiumInCart', 'PDPContain35']\n",
    "# Separating out the features\n",
    "x = df.loc[:, features].values\n",
    "# Separating out the target\n",
    "y = df.loc[:,['Target']].values\n",
    "# Standardizing the features\n",
    "x = StandardScaler().fit_transform(x)\n",
    "\n",
    "from sklearn.decomposition import PCA\n",
    "pca = PCA(n_components=2)\n",
    "principalComponents = pca.fit_transform(x)\n",
    "principalDf = pd.DataFrame(data = principalComponents\n",
    "             , columns = ['principal component 1', 'principal component 2'])\n",
    "finalDf = pd.concat([principalDf, df[['Target']]], axis = 1)\n",
    "finalDf"
   ]
  },
  {
   "cell_type": "code",
   "execution_count": 78,
   "id": "497ad81e-e6d5-4525-b4b4-06a42a634f0f",
   "metadata": {},
   "outputs": [
    {
     "data": {
      "image/png": "[encoded data removed]",
      "text/plain": [
       "<Figure size 576x576 with 1 Axes>"
      ]
     },
     "metadata": {
      "needs_background": "light"
     },
     "output_type": "display_data"
    }
   ],
   "source": [
    "fig = plt.figure(figsize = (8,8))\n",
    "ax = fig.add_subplot(1,1,1) \n",
    "ax.set_xlabel('Principal Component 1', fontsize = 15)\n",
    "ax.set_ylabel('Principal Component 2', fontsize = 15)\n",
    "ax.set_title('2 component PCA', fontsize = 20)\n",
    "targets = [1, 0]\n",
    "colors = ['r', 'g']\n",
    "for target, color in zip(targets,colors):\n",
    "    indicesToKeep = finalDf['Target'] == target\n",
    "    ax.scatter(finalDf.loc[indicesToKeep, 'principal component 1'], finalDf.loc[indicesToKeep, 'principal component 2'], c = color, s = 50)\n",
    "ax.legend(targets)\n",
    "ax.grid()"
   ]
  },
  {
   "cell_type": "markdown",
   "id": "80157ece-b526-4d80-a691-d1ac25afd4b9",
   "metadata": {},
   "source": [
    "## for Target2"
   ]
  },
  {
   "cell_type": "code",
   "execution_count": 79,
   "id": "5d510d7f-f18d-4559-8989-56c532376068",
   "metadata": {},
   "outputs": [
    {
     "data": {
      "image/png": "[encoded data removed]",
      "text/plain": [
       "<Figure size 576x576 with 1 Axes>"
      ]
     },
     "metadata": {
      "needs_background": "light"
     },
     "output_type": "display_data"
    }
   ],
   "source": [
    "from sklearn.preprocessing import StandardScaler\n",
    "features = ['DeviceCategory', 'PremiumPDPPercentage', 'PremiumCategoryPagePercentage', 'FilteredBrand', 'AvgPrice', 'MinPrice', 'PremiumInCart', 'PDPContain35']\n",
    "# Separating out the features\n",
    "x = df.loc[:, features].values\n",
    "# Separating out the target\n",
    "y = df.loc[:,['Target2']].values\n",
    "# Standardizing the features\n",
    "x = StandardScaler().fit_transform(x)\n",
    "\n",
    "from sklearn.decomposition import PCA\n",
    "pca = PCA(n_components=2)\n",
    "principalComponents = pca.fit_transform(x)\n",
    "principalDf = pd.DataFrame(data = principalComponents\n",
    "             , columns = ['principal component 1', 'principal component 2'])\n",
    "finalDf = pd.concat([principalDf, df[['Target2']]], axis = 1)\n",
    "finalDf\n",
    "\n",
    "fig = plt.figure(figsize = (8,8))\n",
    "ax = fig.add_subplot(1,1,1) \n",
    "ax.set_xlabel('Principal Component 1', fontsize = 15)\n",
    "ax.set_ylabel('Principal Component 2', fontsize = 15)\n",
    "ax.set_title('2 component PCA', fontsize = 20)\n",
    "targets = [1, 0]\n",
    "colors = ['r', 'g']\n",
    "for target, color in zip(targets,colors):\n",
    "    indicesToKeep = finalDf['Target2'] == target\n",
    "    ax.scatter(finalDf.loc[indicesToKeep, 'principal component 1'], finalDf.loc[indicesToKeep, 'principal component 2'], c = color, s = 50)\n",
    "ax.legend(targets)\n",
    "ax.grid()"
   ]
  },
  {
   "cell_type": "code",
   "execution_count": null,
   "id": "9e48c98a-8c99-4e45-b1ba-1ecd2f0b655a",
   "metadata": {},
   "outputs": [],
   "source": []
  },
  {
   "cell_type": "code",
   "execution_count": null,
   "id": "a833c9cb-55e1-4a0e-b73d-1f1a09a0b14b",
   "metadata": {},
   "outputs": [],
   "source": []
  },
  {
   "cell_type": "code",
   "execution_count": null,
   "id": "cb2f7095-2e84-491e-b7bb-4fe9ffdb40be",
   "metadata": {},
   "outputs": [],
   "source": []
  },
  {
   "cell_type": "code",
   "execution_count": null,
   "id": "21986a62-42cb-4eed-a91b-35071d9bf0fa",
   "metadata": {},
   "outputs": [],
   "source": []
  },
  {
   "cell_type": "code",
   "execution_count": null,
   "id": "e11be4f6-fb55-4865-bd00-a77d13239090",
   "metadata": {},
   "outputs": [],
   "source": []
  },
  {
   "cell_type": "code",
   "execution_count": null,
   "id": "4458f96c-dc4f-4a88-b1ca-0febb71211e2",
   "metadata": {},
   "outputs": [],
   "source": []
  }
 ],
 "metadata": {
  "kernelspec": {
   "display_name": "Python 3 (ipykernel)",
   "language": "python",
   "name": "python3"
  },
  "language_info": {
   "codemirror_mode": {
    "name": "ipython",
    "version": 3
   },
   "file_extension": ".py",
   "mimetype": "text/x-python",
   "name": "python",
   "nbconvert_exporter": "python",
   "pygments_lexer": "ipython3",
   "version": "3.8.6"
  }
 },
 "nbformat": 4,
 "nbformat_minor": 5
}
